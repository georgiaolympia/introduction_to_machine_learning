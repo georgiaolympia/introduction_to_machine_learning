{
 "cells": [
  {
   "cell_type": "markdown",
   "metadata": {},
   "source": [
    "### Learning Numpy "
   ]
  },
  {
   "cell_type": "code",
   "execution_count": 6,
   "metadata": {},
   "outputs": [
    {
     "name": "stdout",
     "output_type": "stream",
     "text": [
      "a: \n",
      "[[1]\n",
      " [2]\n",
      " [1]]\n",
      "b: \n",
      "[[2]\n",
      " [2]\n",
      " [1]]\n",
      "A: \n",
      "[[1 2]\n",
      " [2 1]\n",
      " [1 1]]\n",
      "A1: \n",
      "[[1 2]\n",
      " [2 1]\n",
      " [1 1]]\n",
      "B: \n",
      "[[2 1]\n",
      " [1 2]]\n",
      "C: \n",
      "[[1 3]\n",
      " [0 1]]\n"
     ]
    }
   ],
   "source": [
    "import numpy as np\n",
    "\n",
    "a = np.matrix([1,2,1]).T\n",
    "\n",
    "print(\"a: \\n\" + str(a))\n",
    "\n",
    "b = np.matrix([2,2,1]).T\n",
    "\n",
    "print(\"b: \\n\" + str(b))\n",
    "\n",
    "A = np.matrix([[1,2],[2,1],[1,1]])\n",
    "A1 = np.matrix([[1,2,1],[2,1,1]]).T\n",
    "\n",
    "print(\"A: \\n\" + str(A))\n",
    "print(\"A1: \\n\" + str(A1))\n",
    "\n",
    "B = np.matrix([[2,1],[1,2]])\n",
    "print(\"B: \\n\" + str(B))\n",
    "C = np.matrix([[1,3],[0,1]])\n",
    "print(\"C: \\n\" + str(C))"
   ]
  },
  {
   "cell_type": "code",
   "execution_count": 7,
   "metadata": {},
   "outputs": [
    {
     "name": "stdout",
     "output_type": "stream",
     "text": [
      "a.T*b\n",
      "[[7]]\n",
      "a*b.T\n",
      "[[2 2 1]\n",
      " [4 4 2]\n",
      " [2 2 1]]\n",
      "A*C\n",
      "[[1 5]\n",
      " [2 7]\n",
      " [1 4]]\n",
      "C*A.T\n",
      "[[7 5 4]\n",
      " [2 1 1]]\n"
     ]
    }
   ],
   "source": [
    "res1 = a.T*b\n",
    "print(\"a.T*b\\n\" + str(a.T*b))\n",
    "print(\"a*b.T\\n\" + str(a*b.T))\n",
    "print(\"A*C\\n\" + str(A*C))\n",
    "print(\"C*A.T\\n\" + str(C*A.T))"
   ]
  },
  {
   "cell_type": "code",
   "execution_count": 61,
   "metadata": {},
   "outputs": [
    {
     "name": "stdout",
     "output_type": "stream",
     "text": [
      "[[ 0.66666667 -0.33333333]\n",
      " [-0.33333333  0.66666667]]\n"
     ]
    }
   ],
   "source": [
    "import numpy.linalg\n",
    "\n",
    "print(str(numpy.linalg.inv(B)))"
   ]
  },
  {
   "cell_type": "code",
   "execution_count": 62,
   "metadata": {},
   "outputs": [
    {
     "name": "stdout",
     "output_type": "stream",
     "text": [
      "True\n",
      "True\n"
     ]
    }
   ],
   "source": [
    "print(str(np.array_equal(numpy.linalg.inv(B)*B, B*numpy.linalg.inv(B))))\n",
    "print(str(np.array_equal(np.identity(2),B*numpy.linalg.inv(B))))"
   ]
  },
  {
   "cell_type": "code",
   "execution_count": 63,
   "metadata": {},
   "outputs": [
    {
     "name": "stdout",
     "output_type": "stream",
     "text": [
      "[[ 0.  1.  0.]\n",
      " [ 1.  0.  0.]\n",
      " [ 0.  0.  1.]]\n"
     ]
    }
   ],
   "source": [
    "M = np.eye(3)\n",
    "np.random.shuffle(M)\n",
    "M = np.matrix(M)\n",
    "print(str(M))"
   ]
  },
  {
   "cell_type": "code",
   "execution_count": 64,
   "metadata": {},
   "outputs": [
    {
     "name": "stdout",
     "output_type": "stream",
     "text": [
      "[[ 1.  0.  0.]\n",
      " [ 0.  1.  0.]\n",
      " [ 0.  0.  1.]]\n"
     ]
    }
   ],
   "source": [
    "print(str(np.eye(3)))"
   ]
  },
  {
   "cell_type": "code",
   "execution_count": 65,
   "metadata": {},
   "outputs": [
    {
     "name": "stdout",
     "output_type": "stream",
     "text": [
      "True\n"
     ]
    }
   ],
   "source": [
    "print(str(np.all(M*M.T == np.eye(3))));"
   ]
  },
  {
   "cell_type": "code",
   "execution_count": 66,
   "metadata": {},
   "outputs": [
    {
     "name": "stdout",
     "output_type": "stream",
     "text": [
      "True\n"
     ]
    }
   ],
   "source": [
    "print(str(np.all(M.T*M == np.eye(3))))"
   ]
  },
  {
   "cell_type": "code",
   "execution_count": 67,
   "metadata": {},
   "outputs": [
    {
     "name": "stdout",
     "output_type": "stream",
     "text": [
      "True\n"
     ]
    }
   ],
   "source": [
    "print(str(np.array_equal(M.T, numpy.linalg.inv(M))))"
   ]
  },
  {
   "cell_type": "code",
   "execution_count": 69,
   "metadata": {},
   "outputs": [
    {
     "data": {
      "text/plain": [
       "True"
      ]
     },
     "execution_count": 69,
     "metadata": {},
     "output_type": "execute_result"
    }
   ],
   "source": [
    "np.all(M*M.T == np.eye(3))"
   ]
  },
  {
   "cell_type": "code",
   "execution_count": null,
   "metadata": {
    "collapsed": true
   },
   "outputs": [],
   "source": []
  },
  {
   "cell_type": "code",
   "execution_count": null,
   "metadata": {
    "collapsed": true
   },
   "outputs": [],
   "source": []
  },
  {
   "cell_type": "code",
   "execution_count": null,
   "metadata": {
    "collapsed": true
   },
   "outputs": [],
   "source": []
  }
 ],
 "metadata": {
  "kernelspec": {
   "display_name": "Python 3",
   "language": "python",
   "name": "python3"
  },
  "language_info": {
   "codemirror_mode": {
    "name": "ipython",
    "version": 3
   },
   "file_extension": ".py",
   "mimetype": "text/x-python",
   "name": "python",
   "nbconvert_exporter": "python",
   "pygments_lexer": "ipython3",
   "version": "3.6.0"
  }
 },
 "nbformat": 4,
 "nbformat_minor": 1
}
