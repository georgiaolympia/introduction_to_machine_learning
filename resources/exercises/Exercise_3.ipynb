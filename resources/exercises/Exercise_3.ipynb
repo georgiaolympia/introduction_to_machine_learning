{
 "cells": [
  {
   "cell_type": "markdown",
   "metadata": {},
   "source": [
    "# Introduction to Machine Learning\n",
    "\n",
    "## Exercise 3  (DBSCAN)\n",
    "\n",
    "In this exercise we'll use the DBSCAN algorithm to cluster an examplary dataset. We will start by calculating the clustering by hand and then move on to implement the solution.\n",
    "This notebooks servers as a guide to the exercise."
   ]
  },
  {
   "attachments": {},
   "cell_type": "markdown",
   "metadata": {},
   "source": [
    "### Density Based Spatial Clustering of Applications with Noise (DBSCAN)\n",
    "\n",
    "You are given the following dataset. \n",
    "\n",
    "![Data Set](dataset.png \"Data Set\")\n",
    "\n",
    "Apply the DBSCAN to cluster this dataset. Note for every point whether it is a core, border or noise point. Use the [Manhattan Distance](https://en.wikipedia.org/wiki/Taxicab_geometry) as your distance function and the following parameters:  \n",
    "\n",
    "* ε = 1.1 and minPts = 2  "
   ]
  },
  {
   "cell_type": "markdown",
   "metadata": {},
   "source": [
    "### DBSCAN using scikit-learn\n",
    "\n",
    "Familiarize yourself with the scikit-learn implementation of DBSCAN [(1)](http://scikit-learn.org/stable/modules/generated/sklearn.cluster.DBSCAN.html) [(2)](http://scikit-learn.org/stable/auto_examples/cluster/plot_dbscan.html).  \n",
    "Write a short program that clusters the dataset you worked on in the first part of the exercise. Visualize your results."
   ]
  },
  {
   "cell_type": "code",
   "execution_count": null,
   "metadata": {
    "collapsed": true
   },
   "outputs": [],
   "source": [
    "data = [[1,1], [2,1], [1,2], [2,2], [3,5], [3,9], [3,10], [4,10], [5,10], [4,11], [7,10], [10,9], [10,6], [9,5], [10,5], [11,5], [9,4], [10,4], [11,4], [10,3]]"
   ]
  }
 ],
 "metadata": {
  "kernelspec": {
   "display_name": "Python 3",
   "language": "python",
   "name": "python3"
  },
  "language_info": {
   "codemirror_mode": {
    "name": "ipython",
    "version": 3
   },
   "file_extension": ".py",
   "mimetype": "text/x-python",
   "name": "python",
   "nbconvert_exporter": "python",
   "pygments_lexer": "ipython3",
   "version": "3.6.0"
  }
 },
 "nbformat": 4,
 "nbformat_minor": 2
}
